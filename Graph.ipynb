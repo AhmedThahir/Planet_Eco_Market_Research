{
 "cells": [
  {
   "cell_type": "code",
   "execution_count": 10,
   "id": "eacc1166",
   "metadata": {},
   "outputs": [],
   "source": [
    "import numpy as np\n",
    "import pandas as pd\n",
    "import plotly.graph_objects as go\n",
    "from pyvis.network import Network"
   ]
  },
  {
   "cell_type": "code",
   "execution_count": 11,
   "id": "2618b64e",
   "metadata": {},
   "outputs": [
    {
     "data": {
      "text/html": [
       "<div>\n",
       "<style scoped>\n",
       "    .dataframe tbody tr th:only-of-type {\n",
       "        vertical-align: middle;\n",
       "    }\n",
       "\n",
       "    .dataframe tbody tr th {\n",
       "        vertical-align: top;\n",
       "    }\n",
       "\n",
       "    .dataframe thead th {\n",
       "        text-align: right;\n",
       "    }\n",
       "</style>\n",
       "<table border=\"1\" class=\"dataframe\">\n",
       "  <thead>\n",
       "    <tr style=\"text-align: right;\">\n",
       "      <th></th>\n",
       "      <th>Cause</th>\n",
       "      <th>Possible Effect</th>\n",
       "      <th>Theoretical Weight</th>\n",
       "    </tr>\n",
       "  </thead>\n",
       "  <tbody>\n",
       "    <tr>\n",
       "      <th>0</th>\n",
       "      <td>China Growth Rate</td>\n",
       "      <td>UAE Growth Rate</td>\n",
       "      <td>1</td>\n",
       "    </tr>\n",
       "    <tr>\n",
       "      <th>1</th>\n",
       "      <td>China Growth Rate</td>\n",
       "      <td>US Growth Rate</td>\n",
       "      <td>1</td>\n",
       "    </tr>\n",
       "    <tr>\n",
       "      <th>2</th>\n",
       "      <td>Competitors Marketing</td>\n",
       "      <td>Competitors Sales Quantity</td>\n",
       "      <td>1</td>\n",
       "    </tr>\n",
       "    <tr>\n",
       "      <th>3</th>\n",
       "      <td>Competitors Sale Price</td>\n",
       "      <td>Competitors Sales Quantity</td>\n",
       "      <td>-1</td>\n",
       "    </tr>\n",
       "    <tr>\n",
       "      <th>4</th>\n",
       "      <td>Competitors Sale Price</td>\n",
       "      <td>PlanetEco Sale Price</td>\n",
       "      <td>1</td>\n",
       "    </tr>\n",
       "  </tbody>\n",
       "</table>\n",
       "</div>"
      ],
      "text/plain": [
       "                    Cause             Possible Effect  Theoretical Weight\n",
       "0       China Growth Rate             UAE Growth Rate                   1\n",
       "1       China Growth Rate              US Growth Rate                   1\n",
       "2   Competitors Marketing  Competitors Sales Quantity                   1\n",
       "3  Competitors Sale Price  Competitors Sales Quantity                  -1\n",
       "4  Competitors Sale Price        PlanetEco Sale Price                   1"
      ]
     },
     "execution_count": 11,
     "metadata": {},
     "output_type": "execute_result"
    }
   ],
   "source": [
    "gsheetkey = \"1jSxkmmJNuxqj9Sqnvoa8qafvG3XvpOhrsZJWufTTKu0\"\n",
    "sheet_name = 'Relationships'\n",
    "url= f'https://docs.google.com/spreadsheet/ccc?key={gsheetkey}&output=xlsx'\n",
    "\n",
    "df = pd.read_excel(url, sheet_name = sheet_name, engine='openpyxl')\n",
    "df.head()"
   ]
  },
  {
   "cell_type": "code",
   "execution_count": 12,
   "id": "d28b50b8",
   "metadata": {},
   "outputs": [],
   "source": [
    "def build_graph(df, highlight=None):\n",
    "    graph = Network(\n",
    "        width = \"100%\",\n",
    "        height= \"95vh\",\n",
    "        directed = True,\n",
    "        bgcolor = '#222222',\n",
    "        font_color = 'white',\n",
    "        neighborhood_highlight = True,\n",
    "#         select_menu = True\n",
    "#         filter_menu = True\n",
    "    )\n",
    "    graph.toggle_hide_edges_on_drag(True)\n",
    "    graph.repulsion(\n",
    "        node_distance=100,\n",
    "        spring_length=200,\n",
    "    )\n",
    "    graph.set_edge_smooth(\"discrete\")\n",
    "    \n",
    "    # add nodes\n",
    "    for node in np.unique(np.concatenate(\n",
    "        (df[df.columns[0]].to_numpy(), df[df.columns[1]].to_numpy())\n",
    "    )):\n",
    "        if (node == highlight):\n",
    "            graph.add_node(node, node, size=10, title=node, color = \"orange\")\n",
    "        else:\n",
    "            graph.add_node(node, node, size=10, title=node)\n",
    "        \n",
    "    # add edges\n",
    "    for src, dst, w in zip(\n",
    "\t\t\tdf[df.columns[0]].to_numpy(), df[df.columns[1]].to_numpy(), df[df.columns[2]].astype(float).to_numpy()\n",
    "\t\t\t):\n",
    "        if w > 0:\n",
    "            graph.add_edge(src, dst, arrowStrikethrough=False, color=\"green\")\n",
    "        elif w < 0:\n",
    "            graph.add_edge(src, dst, arrowStrikethrough=False, color=\"red\")\n",
    "        else:\n",
    "            pass\n",
    "\n",
    "    graph.save_graph('output.html')\n",
    "    \n",
    "build_graph(df, \"PlanetEco Profit\")    "
   ]
  }
 ],
 "metadata": {
  "kernelspec": {
   "display_name": "base",
   "language": "python",
   "name": "python3"
  },
  "language_info": {
   "codemirror_mode": {
    "name": "ipython",
    "version": 3
   },
   "file_extension": ".py",
   "mimetype": "text/x-python",
   "name": "python",
   "nbconvert_exporter": "python",
   "pygments_lexer": "ipython3",
   "version": "3.9.13"
  },
  "vscode": {
   "interpreter": {
    "hash": "67de7f7be52c2403da507ca053157702db5c66960bc16f327b2837f7c79ce950"
   }
  }
 },
 "nbformat": 4,
 "nbformat_minor": 5
}
